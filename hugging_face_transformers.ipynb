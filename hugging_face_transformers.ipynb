{
 "cells": [
  {
   "cell_type": "markdown",
   "metadata": {
    "id": "CJTx5tqpqJjH"
   },
   "source": [
    "<p style=\"text-align:center\">\n",
    "    <a href=\"https://skills.network/?utm_medium=Exinfluencer&utm_source=Exinfluencer&utm_content=000026UJ&utm_term=10006555&utm_id=NA-SkillsNetwork-Channel-SkillsNetworkGuidedProjectsIBMGPXX0AIAEN102-2022-01-01\" target=\"_blank\">\n",
    "    <img src=\"https://cf-courses-data.s3.us.cloud-object-storage.appdomain.cloud/assets/logos/SN_web_lightmode.png\" width=\"200\" alt=\"Skills Network Logo\"  />\n",
    "    </a>\n",
    "</p>\n"
   ]
  },
  {
   "cell_type": "markdown",
   "metadata": {
    "id": "GoL8GNLiqJjI"
   },
   "source": [
    "# <center> **Introduction to Natural Language Processing  with Hugging Face Transformers** <center>\n"
   ]
  },
  {
   "cell_type": "markdown",
   "metadata": {
    "id": "o9zAtHu_qJjJ"
   },
   "source": [
    "<center> <img src=\"https://cf-courses-data.s3.us.cloud-object-storage.appdomain.cloud/IBM-GPXX0AIAEN/Transformers_models.png\" width=\"60%\" alt=\"iris image\"> <center>\n",
    "\n",
    "Image Source: [nvidia](https://blogs.nvidia.com/blog/2022/03/25/what-is-a-transformer-model/?utm_medium=Exinfluencer&utm_source=Exinfluencer&utm_content=000026UJ&utm_term=10006555&utm_id=NA-SkillsNetwork-Channel-SkillsNetworkGuidedProjectsIBMGPXX0AIAEN102-2022-01-01)\n"
   ]
  },
  {
   "cell_type": "markdown",
   "metadata": {
    "id": "eNC81VKTqJjJ"
   },
   "source": [
    "Estimated time needed: **30** minutes\n"
   ]
  },
  {
   "cell_type": "markdown",
   "metadata": {
    "id": "BFRHYFcjqJjJ"
   },
   "source": [
    "This Guided Project will walk you through some of the applications of Hugging Face Transformers in Natural Language Processing (NLP).\n",
    "\n",
    "Hugging Face Transformers package is very popular and versatile Python library that provides pre-trained models for a variety of applications in NLP, as well other areas such as image analysis, audio analysis, multimodal analysis (optical character recognition, video classification, visual question answering and many more).\n"
   ]
  },
  {
   "cell_type": "markdown",
   "metadata": {
    "id": "iqOig2q_qJjJ"
   },
   "source": [
    "This Guided Project will focus on text analysis tasks, which are:\n",
    "\n",
    "*   Text Classification.\n",
    "    *   Sentiment Analysis. Classifies the polarity of a given text.\n",
    "*   Topic Classification. Classifies sequences into specified class names.\n",
    "*   Text Generator. Generates text from a given input.\n",
    "*   Token Classification.\n",
    "    *   Name Entity Recognition (NER). Labels each word with the entity it represents.\n",
    "*   Question answering. Extracts the answer from the context.\n",
    "*   Text Summarization. Generates a summary of a long sequence of text or document.\n",
    "*   Translation. Translates text into another language.\n"
   ]
  },
  {
   "cell_type": "markdown",
   "metadata": {
    "id": "SdkzHvVMqJjJ"
   },
   "source": [
    "## __Table of Contents__\n",
    "\n",
    "<ol>\n",
    "    <li><a href=\"#Objectives\">Objectives</a></li>\n",
    "    <li>\n",
    "        <a href=\"#Setup\">Setup</a>\n",
    "        <ol>\n",
    "            <li><a href=\"#Installing-Required-Libraries\">Installing Required Libraries</a></li>\n",
    "            <li><a href=\"#Importing-Required-Libraries\">Importing Required Libraries</a></li>\n",
    "        </ol>\n",
    "    </li>\n",
    "    <li>\n",
    "        <a href=\"#Background-(optional)\">Background (optional)</a>\n",
    "        <ol>\n",
    "            <li><a href=\"#Example-1--Sentiment-Analysis?\">Example 1 - Sentiment Analysis</a></li>\n",
    "            <li><a href=\"#Example-2--Topic-Classification?\">Example 2 - Topic Classification</a></li>\n",
    "            <li><a href=\"#Example-3--Text-Generator?\">Example 3 - Text Generator: Masked Language Modeling</a></li>\n",
    "            <li><a href=\"#Example-4--Name-Entity-Recognition?\">Example 4 - Name Entity Recognition</a></li>\n",
    "            <li><a href=\"#Example-5--Question-Answering?\">Example 5 - Question Answering</a></li>\n",
    "            <li><a href=\"#Example-6--Text-Summarization?\">Example 6 - Text Summarization</a></li>\n",
    "            <li><a href=\"#Example-7--Translation?\">Example 7 - Translation</a></li>\n",
    "        </ol>\n",
    "    </li>\n",
    "</ol>\n",
    "\n",
    "<a href=\"#Exercises\">Exercises</a>\n",
    "<ol>\n",
    "    <li><a href=\"#Exercise-1---Sentiment-Analysis)\">Exercise 1. Sentiment Analysis</a></li>\n",
    "    <li><a href=\"#Exercise-2---Topic-Classification\">Exercise 2. Topic Classification</a></li>\n",
    "    <li><a href=\"#Exercise-3---Text-Generation\">Exercise 3. Text Generation</a></li>\n",
    "    <li><a href=\"#Exercise-4---Name-Entity-Recognition\">Exercise 4. Name Entity Recognition</a></li>\n",
    "    <li><a href=\"#Exercise-5---Question-Answering\">Exercise 5. Question Answering</a></li>\n",
    "    <li><a href=\"#Exercise-6---Text-Summarization\">Exercise 6. Text Summarization</a></li>\n",
    "    <li><a href=\"#Exercise-7---Translation\">Exercise 7. Translation</a></li>\n",
    "</ol>\n"
   ]
  },
  {
   "cell_type": "markdown",
   "metadata": {
    "id": "PuLL2nSAqJjJ"
   },
   "source": [
    "## Objectives\n",
    "\n",
    "After completing this lab you will be able to:\n",
    "\n",
    " - Use Hugging Face Transformers to do:\n",
    "   - Sentiment Analysis\n",
    "   - Topic Classification\n",
    "   - Text Generation\n",
    "   - Name Entity Recognition\n",
    "   - Question Answering\n",
    "   - Text Summarization\n",
    "   - Text Translation\n"
   ]
  },
  {
   "cell_type": "markdown",
   "metadata": {
    "id": "G7HlNG6cqJjK"
   },
   "source": [
    "----\n"
   ]
  },
  {
   "cell_type": "markdown",
   "metadata": {
    "id": "q__KxypRqJjK"
   },
   "source": [
    "## Setup\n"
   ]
  },
  {
   "cell_type": "markdown",
   "metadata": {
    "id": "pZyCgTIpqJjK"
   },
   "source": [
    "For this lab, we will be using the following libraries:\n",
    "\n",
    "*   [`pandas`](https://pandas.pydata.org/?utm_medium=Exinfluencer&utm_source=Exinfluencer&utm_content=000026UJ&utm_term=10006555&utm_id=NA-SkillsNetwork-Channel-SkillsNetworkCoursesIBMML0187ENSkillsNetwork31430127-2021-01-01) for managing the data.\n"
   ]
  },
  {
   "cell_type": "markdown",
   "metadata": {
    "id": "dvfvr_TGqJjK"
   },
   "source": [
    "### Installing Required Libraries\n",
    "\n"
   ]
  },
  {
   "cell_type": "markdown",
   "metadata": {
    "id": "SrVYyRucqJjL"
   },
   "source": [
    "The following required libraries are __not__ pre-installed in the Skills Network Labs environment. __You will need to run the following cell__ to install them:\n"
   ]
  },
  {
   "cell_type": "code",
   "execution_count": 10,
   "metadata": {
    "id": "xpL8_gzhqJjM",
    "tags": []
   },
   "outputs": [
    {
     "name": "stdout",
     "output_type": "stream",
     "text": [
      "Requirement already satisfied: torch in /opt/miniconda3/envs/main-ds/lib/python3.9/site-packages (2.7.1)\n"
     ]
    },
    {
     "name": "stderr",
     "output_type": "stream",
     "text": [
      "huggingface/tokenizers: The current process just got forked, after parallelism has already been used. Disabling parallelism to avoid deadlocks...\n",
      "To disable this warning, you can either:\n",
      "\t- Avoid using `tokenizers` before the fork if possible\n",
      "\t- Explicitly set the environment variable TOKENIZERS_PARALLELISM=(true | false)\n"
     ]
    },
    {
     "name": "stdout",
     "output_type": "stream",
     "text": [
      "Requirement already satisfied: filelock in /opt/miniconda3/envs/main-ds/lib/python3.9/site-packages (from torch) (3.18.0)\n",
      "Requirement already satisfied: typing-extensions>=4.10.0 in /opt/miniconda3/envs/main-ds/lib/python3.9/site-packages (from torch) (4.12.2)\n",
      "Requirement already satisfied: sympy>=1.13.3 in /opt/miniconda3/envs/main-ds/lib/python3.9/site-packages (from torch) (1.14.0)\n",
      "Requirement already satisfied: networkx in /opt/miniconda3/envs/main-ds/lib/python3.9/site-packages (from torch) (3.2.1)\n",
      "Requirement already satisfied: jinja2 in /opt/miniconda3/envs/main-ds/lib/python3.9/site-packages (from torch) (3.1.5)\n",
      "Requirement already satisfied: fsspec in /opt/miniconda3/envs/main-ds/lib/python3.9/site-packages (from torch) (2025.5.1)\n",
      "Requirement already satisfied: mpmath<1.4,>=1.1.0 in /opt/miniconda3/envs/main-ds/lib/python3.9/site-packages (from sympy>=1.13.3->torch) (1.3.0)\n",
      "Requirement already satisfied: MarkupSafe>=2.0 in /opt/miniconda3/envs/main-ds/lib/python3.9/site-packages (from jinja2->torch) (3.0.2)\n"
     ]
    }
   ],
   "source": [
    "!pip install torch"
   ]
  },
  {
   "cell_type": "code",
   "execution_count": 11,
   "metadata": {
    "id": "p7oro70zqJjM",
    "tags": []
   },
   "outputs": [
    {
     "name": "stderr",
     "output_type": "stream",
     "text": [
      "huggingface/tokenizers: The current process just got forked, after parallelism has already been used. Disabling parallelism to avoid deadlocks...\n",
      "To disable this warning, you can either:\n",
      "\t- Avoid using `tokenizers` before the fork if possible\n",
      "\t- Explicitly set the environment variable TOKENIZERS_PARALLELISM=(true | false)\n"
     ]
    }
   ],
   "source": [
    "!pip install -q transformers"
   ]
  },
  {
   "cell_type": "code",
   "execution_count": 12,
   "metadata": {
    "id": "Q_HbVMRaqJjM",
    "tags": []
   },
   "outputs": [
    {
     "name": "stdout",
     "output_type": "stream",
     "text": [
      "zsh:1: no matches found: transformers[sentencepiece]\n"
     ]
    },
    {
     "name": "stderr",
     "output_type": "stream",
     "text": [
      "huggingface/tokenizers: The current process just got forked, after parallelism has already been used. Disabling parallelism to avoid deadlocks...\n",
      "To disable this warning, you can either:\n",
      "\t- Avoid using `tokenizers` before the fork if possible\n",
      "\t- Explicitly set the environment variable TOKENIZERS_PARALLELISM=(true | false)\n"
     ]
    }
   ],
   "source": [
    "!pip install datasets evaluate transformers[sentencepiece]"
   ]
  },
  {
   "cell_type": "code",
   "execution_count": 13,
   "metadata": {
    "id": "A7tVn-_5qJjM",
    "tags": []
   },
   "outputs": [
    {
     "name": "stderr",
     "output_type": "stream",
     "text": [
      "huggingface/tokenizers: The current process just got forked, after parallelism has already been used. Disabling parallelism to avoid deadlocks...\n",
      "To disable this warning, you can either:\n",
      "\t- Avoid using `tokenizers` before the fork if possible\n",
      "\t- Explicitly set the environment variable TOKENIZERS_PARALLELISM=(true | false)\n"
     ]
    },
    {
     "name": "stdout",
     "output_type": "stream",
     "text": [
      "Requirement already satisfied: sacremoses in /opt/miniconda3/envs/main-ds/lib/python3.9/site-packages (0.1.1)\n",
      "Requirement already satisfied: regex in /opt/miniconda3/envs/main-ds/lib/python3.9/site-packages (from sacremoses) (2024.11.6)\n",
      "Requirement already satisfied: click in /opt/miniconda3/envs/main-ds/lib/python3.9/site-packages (from sacremoses) (8.1.8)\n",
      "Requirement already satisfied: joblib in /opt/miniconda3/envs/main-ds/lib/python3.9/site-packages (from sacremoses) (1.4.2)\n",
      "Requirement already satisfied: tqdm in /opt/miniconda3/envs/main-ds/lib/python3.9/site-packages (from sacremoses) (4.67.1)\n"
     ]
    }
   ],
   "source": [
    "!pip install sacremoses"
   ]
  },
  {
   "cell_type": "markdown",
   "metadata": {
    "id": "r0pRtrYbqJjM"
   },
   "source": [
    "Please **restart the kernel** after running the above installs.\n"
   ]
  },
  {
   "cell_type": "markdown",
   "metadata": {
    "id": "eZOjmNNKqJjM"
   },
   "source": [
    "### Importing Required Libraries\n",
    "\n",
    "_We recommend you import all required libraries in one place (here):_\n"
   ]
  },
  {
   "cell_type": "code",
   "execution_count": 14,
   "metadata": {
    "id": "WTVF2bH_qJjN"
   },
   "outputs": [],
   "source": [
    "import warnings\n",
    "warnings.filterwarnings('ignore')"
   ]
  },
  {
   "cell_type": "code",
   "execution_count": 15,
   "metadata": {
    "id": "-6qlzfb_qJjN"
   },
   "outputs": [],
   "source": [
    "from transformers import pipeline\n",
    "from transformers import AutoTokenizer\n",
    "from transformers import AutoModel"
   ]
  },
  {
   "cell_type": "markdown",
   "metadata": {
    "id": "i8tKq_21qJjN"
   },
   "source": [
    "## Background (optional)\n",
    "\n",
    "### What is a Transformer Model?\n",
    "\n",
    "A Transformer Model is a neural network that learns context and thus meaning by tracking relationships in sequential data, for example, words in a sentence. Transformer models apply an evolving set of mathematical techniques, called attention or self-attention, differently weighing the significance of each part of the input data. They are used primarily in the fields of natural language processing and computer vision. Similarly to recurrent neural networks (RNNs), transformers are designed to process sequential data, for example a body of text, with applications such as translation and text summarization. However, unlike RNNs, transformers process the entire input all at once. The attention mechanism provides context for any position in the input sequence. For example, if the input data is a natural language sentence, the transformer does not have to process one word at a time. This allows for more parallelization than RNNs, and therefore, reduces training times. The additional training parallelization allows training on larger datasets. This led to the development of pre-trained systems such as BERT (Bidirectional Encoder Representations from Transformers) and GPT (Generative Pre-trained Transformer), which were trained with large language datasets, such as the Wikipedia Corpus and Common Crawl, and can be fine-tuned for specific tasks.\n",
    "\n",
    "Transformer models were first described in a [2017 paper](https://arxiv.org/abs/1706.03762?utm_medium=Exinfluencer&utm_source=Exinfluencer&utm_content=000026UJ&utm_term=10006555&utm_id=NA-SkillsNetwork-Channel-SkillsNetworkGuidedProjectsIBMGPXX0AIAEN102-2022-01-01) from Google, as the newest and the most powerful classes of models invented today, replacing some RNNs.\n",
    "\n",
    "### What do Transformer Models do?\n",
    "\n",
    "Transformer Models have many useful applications in today world. They are widely used in near real-time translation tasks, opening communication spaces to language-diverse and hearing-impaired audiences. These models are advancing medical research by helping scientists to understand the DNA and amino acid sequences to speed up the development and improve the quality of treatments for different diseases. The models can detect anomalies to prevent fraud detection, streamline manufacturing, make recommendations and overall improve our day-to-day quality of life.\n",
    "\n",
    "### Transformer Model Architecture\n",
    "\n",
    "<img src=\"https://cf-courses-data.s3.us.cloud-object-storage.appdomain.cloud/IBM-GPXX0AIAEN/The-Transformer-model-architecture.png\" width=\"50%\" alt=\"iris image\">\n",
    "\n",
    "Image Source: [wikipedia](https://en.wikipedia.org/wiki/Transformer_\\(machine_learning_model\\)?utm_medium=Exinfluencer&utm_source=Exinfluencer&utm_content=000026UJ&utm_term=10006555&utm_id=NA-SkillsNetwork-Channel-SkillsNetworkGuidedProjectsIBMGPXX0AIAEN102-2022-01-01)\n",
    "\n",
    "The diagram above describes the pipeline between the input, output and positional encoding. For more information on Transformer Architecture visit this [wikipedia](https://en.wikipedia.org/wiki/Transformer_\\(machine_learning_model\\)?utm_medium=Exinfluencer&utm_source=Exinfluencer&utm_content=000026UJ&utm_term=10006555&utm_id=NA-SkillsNetwork-Channel-SkillsNetworkGuidedProjectsIBMGPXX0AIAEN102-2022-01-01) page.\n"
   ]
  },
  {
   "cell_type": "markdown",
   "metadata": {
    "id": "NGZZLw9QqJjN"
   },
   "source": [
    "### How to use Hugging Face Transformers\n",
    "\n",
    "There is very easy way to apply Hugging Face Transformers, it is to use the `pipeline()` function. The pipeline makes it simple to use any model from the Hugging Face Hub for inference on any language, computer vision, speech, or multimodal tasks. Each task has an associated pipeline. However, it is simpler to use the general pipeline abstraction, which contains all the task-specific pipelines. The `pipeline()` automatically loads a default model and a pre-processing class capable of inference for any of your desired tasks.\n",
    "\n",
    "The links beside each of the 7 Examples shown here, are from Hugging Face community and contain more information about the models and data they were trained on.\n",
    "This [Hugging Face Page](https://huggingface.co/models?utm_medium=Exinfluencer&utm_source=Exinfluencer&utm_content=000026UJ&utm_term=10006555&utm_id=NA-SkillsNetwork-Channel-SkillsNetworkGuidedProjectsIBMGPXX0AIAEN102-2022-01-01) also contains ALL the models created by this community.\n"
   ]
  },
  {
   "cell_type": "markdown",
   "metadata": {
    "id": "9wHeSuQeqJjN"
   },
   "source": [
    "### Example 1 - [Sentiment Analysis](https://huggingface.co/blog/sentiment-analysis-python?utm_medium=Exinfluencer&utm_source=Exinfluencer&utm_content=000026UJ&utm_term=10006555&utm_id=NA-SkillsNetwork-Channel-SkillsNetworkGuidedProjectsIBMGPXX0AIAEN102-2022-01-01)\n",
    "\n",
    "\n",
    "**Sentiment analysis** is a natural language processing technique that identifies the polarity of a given text. Some of the most common practical uses of sentiment analysis are tweets analysis, product reviews, support tickets classification and others. Sentiment analysis allows quick processing of large amounts, real-time data. The Diagram below, describes the process of Sentiment Analysis. As shown in the Diagram below, we can use sentiment analysis to predict a label and a score of a random amazon product review.\n",
    "\n",
    "<center> <img src=\"https://cf-courses-data.s3.us.cloud-object-storage.appdomain.cloud/IBM-GPXX0AIAEN/sent_analysis6.png\" width=\"70%\"> <center>\n",
    "\n",
    "The evaluation metric for this type of analysis is accuracy score. The default model behind \"sentiment-analysis\" pipeline is \"distilbert-base-uncased-finetuned-sst-2-english\" model, pre-trained on a large corpus of English data in a self-supervised fashion. This means it was pre-trained on the raw texts only, with no humans labelling them in any way. For more information on this model read [here.](https://huggingface.co/distilbert-base-uncased-finetuned-sst-2-english?utm_medium=Exinfluencer&utm_source=Exinfluencer&utm_content=000026UJ&utm_term=10006555&utm_id=NA-SkillsNetwork-Channel-SkillsNetworkGuidedProjectsIBMGPXX0AIAEN102-2022-01-01&text=I+like+you.+I+love+you)\n"
   ]
  },
  {
   "cell_type": "markdown",
   "metadata": {
    "id": "bG_mVgHUqJjN"
   },
   "source": [
    "We can start by loading text classification pipeline from `pipeline()` using \"sentiment-analysis\" task identifier. It uses the default, \"distilbert-base-uncased-finetuned-sst-2-english\" model for sentiment analysis. Note, you can skip specifying a default model, but you will recieve a warning message.\n"
   ]
  },
  {
   "cell_type": "code",
   "execution_count": 16,
   "metadata": {
    "id": "Ylvl6hhqqJjN"
   },
   "outputs": [
    {
     "name": "stderr",
     "output_type": "stream",
     "text": [
      "Device set to use mps:0\n"
     ]
    }
   ],
   "source": [
    "classifier = pipeline(\"sentiment-analysis\", model=\"distilbert-base-uncased-finetuned-sst-2-english\")\n"
   ]
  },
  {
   "cell_type": "markdown",
   "metadata": {
    "id": "Qn0Oy8CNqJjN"
   },
   "source": [
    "We can copy a random product review from amazon and input it into selected classifier. [Review Source.](https://www.amazon.ca/iRobot-Roomba-Self-Emptying-Robot-Vacuum/dp/B094NYHTMF/ref=sr_1_1_sspa?utm_medium=Exinfluencer&utm_source=Exinfluencer&utm_content=000026UJ&utm_term=10006555&utm_id=NA-SkillsNetwork-Channel-SkillsNetworkGuidedProjectsIBMGPXX0AIAEN102-2022-01-01&crid=2LO2ZA75UKXKQ&keywords=roomba&qid=1663097073&sprefix=roomba%2Caps%2C194&sr=8-1-spons&psc=1#customerReviews)\n"
   ]
  },
  {
   "cell_type": "code",
   "execution_count": 17,
   "metadata": {
    "id": "LAYQka84qJjN"
   },
   "outputs": [
    {
     "data": {
      "text/plain": [
       "[{'label': 'POSITIVE', 'score': 0.9982457160949707}]"
      ]
     },
     "execution_count": 17,
     "metadata": {},
     "output_type": "execute_result"
    }
   ],
   "source": [
    "classifier(\"Having three long haired, heavy shedding dogs at home, I was pretty skeptical that this could hold up to all the hair and dirt they trek in, but this wonderful piece of tech has been nothing short of a godsend for me! \")"
   ]
  },
  {
   "cell_type": "markdown",
   "metadata": {
    "id": "DXH6Yzz5qJjO"
   },
   "source": [
    "As we see, the sentiment is classified as Positive with 99.8% accuracy score.\n"
   ]
  },
  {
   "cell_type": "markdown",
   "metadata": {
    "id": "WWR4BbBOvxaX"
   },
   "source": [
    "---\n",
    "\n",
    "### TODO 1 : Now, do it with your your own word or sentence."
   ]
  },
  {
   "cell_type": "code",
   "execution_count": 18,
   "metadata": {
    "id": "RjMIEKAZvt5T"
   },
   "outputs": [
    {
     "name": "stderr",
     "output_type": "stream",
     "text": [
      "Device set to use mps:0\n"
     ]
    },
    {
     "data": {
      "text/plain": [
       "[{'label': 'NEGATIVE', 'score': 0.9998220801353455}]"
      ]
     },
     "execution_count": 18,
     "metadata": {},
     "output_type": "execute_result"
    }
   ],
   "source": [
    "# TODO :\n",
    "classifier = pipeline(\"sentiment-analysis\", model=\"distilbert-base-uncased-finetuned-sst-2-english\")\n",
    "classifier(\"I was really disappointed with the final season of Attack on Titan. The story felt rushed and the ending didn't make sense at all.\")"
   ]
  },
  {
   "cell_type": "markdown",
   "metadata": {
    "id": "1HyZelxTvuSf"
   },
   "source": [
    "---"
   ]
  },
  {
   "cell_type": "markdown",
   "metadata": {
    "id": "Z1q2R2FwqJjO"
   },
   "source": [
    "### Example 2 - [Topic Classification](https://huggingface.co/facebook/bart-large-mnli?utm_medium=Exinfluencer&utm_source=Exinfluencer&utm_content=000026UJ&utm_term=10006555&utm_id=NA-SkillsNetwork-Channel-SkillsNetworkGuidedProjectsIBMGPXX0AIAEN102-2022-01-01)\n",
    "\n",
    "\n",
    "**Topic Classification** task classifies sequences into specified class names. It applies \"zero-shot-classification\" algorithm to perform this task. Zero-Shot Learning (ZSL) is when a classifier learns on one set of labels and then evaluates on a different set of labels, the ones that it has never seen before.  [This link](https://joeddav.github.io/blog/2020/05/29/ZSL.html?utm_medium=Exinfluencer&utm_source=Exinfluencer&utm_content=000026UJ&utm_term=10006555&utm_id=NA-SkillsNetwork-Channel-SkillsNetworkGuidedProjectsIBMGPXX0AIAEN102-2022-01-01) has more information about ZSL.\n",
    "As shown in the Diagram below, we also need to specify some kind of descriptor (input labels) for an unseen class (such as a set of visual attributes or simply the class name) in order for our model to be able to predict that class without training data.\n",
    "\n",
    "<center> <img src=\"https://cf-courses-data.s3.us.cloud-object-storage.appdomain.cloud/IBM-GPXX0AIAEN/sent_analysis5.png\" width=\"70%\"> <center>\n",
    "\n",
    "First, we load a pipeline with \"zero-shot-classification\", pass a sequence that we want to classify and a list of candidate labels and see how the model will assign corresponding labels to the input.\n"
   ]
  },
  {
   "cell_type": "code",
   "execution_count": 19,
   "metadata": {
    "id": "5vwxBumVqJjO"
   },
   "outputs": [
    {
     "name": "stderr",
     "output_type": "stream",
     "text": [
      "Device set to use mps:0\n"
     ]
    },
    {
     "data": {
      "text/plain": [
       "{'sequence': 'Exploratory Data Analysis is the first course in Machine Learning Program that introduces learners to the broad range of Machine Learning concepts, applications, challenges, and solutions, while utilizing interesting real-life datasets',\n",
       " 'labels': ['data analysis', 'art', 'natural science'],\n",
       " 'scores': [0.9957792162895203, 0.002698265016078949, 0.0015224874950945377]}"
      ]
     },
     "execution_count": 19,
     "metadata": {},
     "output_type": "execute_result"
    }
   ],
   "source": [
    "classifier = pipeline(\"zero-shot-classification\", model=\"facebook/bart-large-mnli\")\n",
    "classifier(\n",
    "    \"Exploratory Data Analysis is the first course in Machine Learning Program that introduces learners to the broad range of Machine Learning concepts, applications, challenges, and solutions, while utilizing interesting real-life datasets\",\n",
    "    candidate_labels=[\"art\", \"natural science\", \"data analysis\"],\n",
    ")"
   ]
  },
  {
   "cell_type": "markdown",
   "metadata": {
    "id": "egohDK79qJjO"
   },
   "source": [
    "As we see, 'data analysis' is the most successful candidate for the topic of this input, having 99.6% score.\n"
   ]
  },
  {
   "cell_type": "markdown",
   "metadata": {
    "id": "U9sAvDQOwt1V"
   },
   "source": [
    "---\n",
    "### TODO 2 : Now, do it with your own word or sentence."
   ]
  },
  {
   "cell_type": "code",
   "execution_count": 20,
   "metadata": {
    "id": "UWoblc6Ywyhj"
   },
   "outputs": [
    {
     "name": "stderr",
     "output_type": "stream",
     "text": [
      "Device set to use mps:0\n"
     ]
    },
    {
     "data": {
      "text/plain": [
       "{'sequence': 'One Piece is an epic adventure about friendship, freedom, and chasing your dreams across the open seas.',\n",
       " 'labels': ['anime', 'adventure', 'romance'],\n",
       " 'scores': [0.6241578459739685, 0.37131133675575256, 0.0045308698900043964]}"
      ]
     },
     "execution_count": 20,
     "metadata": {},
     "output_type": "execute_result"
    }
   ],
   "source": [
    "# TODO :\n",
    "classifier = pipeline(\"zero-shot-classification\", model=\"facebook/bart-large-mnli\")\n",
    "classifier(\n",
    "    \"One Piece is an epic adventure about friendship, freedom, and chasing your dreams across the open seas.\",\n",
    "    candidate_labels=[\"adventure\", \"romance\", \"anime\"],\n",
    ")"
   ]
  },
  {
   "cell_type": "markdown",
   "metadata": {
    "id": "bLspd27Cwy_0"
   },
   "source": [
    "---"
   ]
  },
  {
   "cell_type": "markdown",
   "metadata": {
    "id": "EGql724QqJjO"
   },
   "source": [
    "### Example 3 - [Text Generator](https://huggingface.co/tasks/text-generation?utm_medium=Exinfluencer&utm_source=Exinfluencer&utm_content=000026UJ&utm_term=10006555&utm_id=NA-SkillsNetwork-Channel-SkillsNetworkGuidedProjectsIBMGPXX0AIAEN102-2022-01-01)\n",
    "\n",
    "\n",
    "**Text Generation** model is also known as causal language model, is a task of predicting a next word in a sentence, given some previous input. This task is very similar to the auto-correct function we have on our phones. Classification metric cannot be used in this task, as there is no single correct answer. Instead, text distribution auto-completed by the model is evaluated by the cross entropy loss and perplexity. The default model behind Text Generation is Generative Pre-trained Transformer 2, [GPT-2](https://huggingface.co/docs/transformers/model_doc/gpt2?utm_medium=Exinfluencer&utm_source=Exinfluencer&utm_content=000026UJ&utm_term=10006555&utm_id=NA-SkillsNetwork-Channel-SkillsNetworkGuidedProjectsIBMGPXX0AIAEN102-2022-01-01) model. It can receive an input like \"This course will teach you\" and proceed to complete the sentence based on those first words, as shown in the Diagram below.\n",
    "\n",
    "<center> <img src=\"https://cf-courses-data.s3.us.cloud-object-storage.appdomain.cloud/IBM-GPXX0AIAEN/text_gener2.png\" width=\"60%\" alt=\"iris image\"> <center>\n",
    "\n",
    "Similarly to Completion Generation Models, we also have Text-to-Text Models. These models are trained to learn the mapping between a pair of texts (e.g. translation from one language to another). The most popular variants of these models are T5, T0 and BART. Text-to-Text models are trained with multi-tasking capabilities, they can accomplish a wide range of tasks, including summarization, translation, and text classification.\n",
    "\n",
    "Interestingly, causal language models can also be used to generate a code to help programmers in their repetitive coding tasks.\n",
    "\n",
    "To begin our analysis, we can load a pipeline with the default \"text-generation\" model:\n"
   ]
  },
  {
   "cell_type": "code",
   "execution_count": 21,
   "metadata": {
    "id": "9usb20olqJjO"
   },
   "outputs": [
    {
     "name": "stderr",
     "output_type": "stream",
     "text": [
      "Device set to use mps:0\n",
      "Setting `pad_token_id` to `eos_token_id`:50256 for open-end generation.\n"
     ]
    },
    {
     "data": {
      "text/plain": [
       "[{'generated_text': 'This course will teach you the fundamentals of writing, writing in Python, and writing Python code — some of the more difficult ones. This is the second course in our series of courses, which will teach you the fundamentals of writing and writing Python code, using Python 5.1.\\n\\nThe first course, Writing Python in Python, will be presented on January 7, 2017, at the Python Conference in Chicago, Illinois.\\n\\nThe second course, Writing Python in Python 2.7, will be presented on February 7, 2017, at the Python Conference in Chicago, Illinois.\\n\\nThe third course, Python for Beginners, will be presented on February 14, 2017, at the Python Conference in Chicago, Illinois.\\n\\nThis course is designed to teach you Python for Beginners, which is a Python implementation in Java, using Python 2.7. To learn more about this course, please visit our Python homepage.\\n\\nThis course is designed to teach you Python for Beginners, which is a Python implementation in Java, using Python 2.7. To learn more about this course, please visit our Python homepage.\\n\\nThis course is designed to teach you Python for Beginners, which is a Python implementation in Java, using Python 2.7. To learn more about this'}]"
      ]
     },
     "execution_count": 21,
     "metadata": {},
     "output_type": "execute_result"
    }
   ],
   "source": [
    "generator = pipeline(\"text-generation\", model=\"gpt2\")\n",
    "generator(\"This course will teach you\")"
   ]
  },
  {
   "cell_type": "markdown",
   "metadata": {
    "id": "8ULbVXGAqJjO"
   },
   "source": [
    "Alternatively, we can also use \"distilgpt2\" model, as well as some parameters, such length and number of the sentences needed. Distilled GPT-2 model is an English-language model pre-trained with the supervision of the smallest version of GPT-2. Like GPT-2, DistilGPT2 can be used to generate text. For more information about this model, please visit this [link](https://huggingface.co/distilgpt2?utm_medium=Exinfluencer&utm_source=Exinfluencer&utm_content=000026UJ&utm_term=10006555&utm_id=NA-SkillsNetwork-Channel-SkillsNetworkGuidedProjectsIBMGPXX0AIAEN102-2022-01-01).\n"
   ]
  },
  {
   "cell_type": "code",
   "execution_count": 22,
   "metadata": {
    "id": "RRYSkVieqJjS"
   },
   "outputs": [
    {
     "name": "stderr",
     "output_type": "stream",
     "text": [
      "Device set to use mps:0\n",
      "Truncation was not explicitly activated but `max_length` is provided a specific value, please use `truncation=True` to explicitly truncate examples to max length. Defaulting to 'longest_first' truncation strategy. If you encode pairs of sequences (GLUE-style) with the tokenizer you can select this strategy more precisely by providing a specific strategy to `truncation`.\n",
      "Setting `pad_token_id` to `eos_token_id`:50256 for open-end generation.\n",
      "Both `max_new_tokens` (=256) and `max_length`(=30) seem to have been set. `max_new_tokens` will take precedence. Please refer to the documentation for more information. (https://huggingface.co/docs/transformers/main/en/main_classes/text_generation)\n"
     ]
    },
    {
     "data": {
      "text/plain": [
       "[{'generated_text': 'This course will teach you the basics of the web, and how to use it and how to use it.'},\n",
       " {'generated_text': 'This course will teach you how to make a solid foundation for your own unique projects.\\n\\n\\n\\n\\n\\nThis course will be taught by a talented student who works on a project that allows you to create a better product with no risk.\\n\\nI\\u202am sure that you may have noticed that there has been a few exceptions to this course. I have been working on a prototype of a new product called the F2.\\nThis project has been tested in two different versions, the one that is on the F2.\\nOne of the features is that a person can create a beautiful object, and the other is the same thing. This means that the object will have no need to be a simple object.\\nI can\\u202at say enough about this, but I hope you enjoy it.\\nAdvertisements'}]"
      ]
     },
     "execution_count": 22,
     "metadata": {},
     "output_type": "execute_result"
    }
   ],
   "source": [
    "generator = pipeline(\"text-generation\", model=\"distilgpt2\")\n",
    "generator(\n",
    "    \"This course will teach you\",\n",
    "    max_length=30,\n",
    "    num_return_sequences=2,\n",
    ")"
   ]
  },
  {
   "cell_type": "markdown",
   "metadata": {
    "id": "2ojyej0JxZFl"
   },
   "source": [
    "---\n",
    "### TODO 3 : Now, do it with your own word or sentence to be completed by the model\n",
    "\n",
    "> To minimize error, use at least 10-15 words in one sentence, then end it so the model can complete it."
   ]
  },
  {
   "cell_type": "code",
   "execution_count": 23,
   "metadata": {
    "id": "AwcJRG-rxhZ8"
   },
   "outputs": [
    {
     "name": "stderr",
     "output_type": "stream",
     "text": [
      "Device set to use mps:0\n",
      "Truncation was not explicitly activated but `max_length` is provided a specific value, please use `truncation=True` to explicitly truncate examples to max length. Defaulting to 'longest_first' truncation strategy. If you encode pairs of sequences (GLUE-style) with the tokenizer you can select this strategy more precisely by providing a specific strategy to `truncation`.\n",
      "Setting `pad_token_id` to `eos_token_id`:50256 for open-end generation.\n",
      "Both `max_new_tokens` (=256) and `max_length`(=10) seem to have been set. `max_new_tokens` will take precedence. Please refer to the documentation for more information. (https://huggingface.co/docs/transformers/main/en/main_classes/text_generation)\n"
     ]
    },
    {
     "data": {
      "text/plain": [
       "[{'generated_text': \"The promised neverland is anime about the human race, and it is a place where it becomes a place where the human race becomes a part of the life and death of humans.\\n\\n\\nThe first episode of the anime aired on February 7, 2011, in the anime's first episode. The anime is based on the anime's first episode, The End of the Age, a story first aired in 1995.\\nBattlestar Galactica is a series of stories based on the novels by the original series. It was first aired in Japan on March 8, 2011.\\nThe anime is based on the novels by the original series. It was first aired in Japan on March 8, 2011.\\nThe anime is based on the novels by the original series. It was first aired in Japan on March 8, 2011. The anime was originally aired in Japan on March 8, 2011.\\nThe anime is based on the novels by the original series. It was originally aired in Japan on March 8, 2011.\\nThe series is based on the novels by the original series. It was originally aired in Japan on March 8, 2011.\\nThe anime is based on the novels by the original series. It was originally aired in Japan on March 8, 2011. The anime premiered in Japan on March 8\"},\n",
       " {'generated_text': 'The promised neverland is anime about how you need it to be. It’s a kind of movie about the things you must do to survive in the world. I’m sure that’s why I think it’s funny.\\n\\n\\n“I’m not going to stop talking about anime about anime,’ I’m going to keep talking about it because it’s not so easy.’\\n“I can’t stop talking about anime about anime about anime about anime about anime about anime about anime about anime about anime about anime about anime about anime about anime about anime about anime about anime about anime about anime about anime about anime about anime about anime about anime about anime about anime about anime about anime about anime about anime about anime about anime about anime about anime about anime about anime about anime about anime about anime about anime about anime about anime about anime about anime about anime about anime about anime about anime about anime about anime about anime about anime about anime about anime about anime about anime about anime about anime about anime about anime about anime about anime about anime about anime about anime about anime about anime about anime about anime about anime about anime about anime about anime about anime about anime about anime about anime about anime about anime about anime about'}]"
      ]
     },
     "execution_count": 23,
     "metadata": {},
     "output_type": "execute_result"
    }
   ],
   "source": [
    "# TODO :\n",
    "generator = pipeline(\"text-generation\", model=\"distilgpt2\") # or change to gpt-2\n",
    "generator(\n",
    "    \"The promised neverland is anime about\",\n",
    "    max_length=10, # you can change this\n",
    "    num_return_sequences=2, # and this too\n",
    ")"
   ]
  },
  {
   "cell_type": "markdown",
   "metadata": {
    "id": "a5h-PSQ5yMnx"
   },
   "source": [
    "---"
   ]
  },
  {
   "cell_type": "markdown",
   "metadata": {
    "id": "eZRTH9PWqJjS"
   },
   "source": [
    "#### Masked Language Modeling\n",
    "\n",
    "\n",
    "Sometimes, it is useful to use Masked Language modeling, which also has Text Generation capabilities. **Masked language** modeling is the task of masking some of the words in a sentence and predicting which words should replace those masks. These models are useful when we want to get a statistical understanding of the language in which the model is trained in. Masked language models do not require labelled data! They are trained by masking a couple of words in sentences and the model is expected to guess the masked word. The Diagram below shows a simple representation of this concept.\n",
    "\n",
    "<center> <img src=\"https://cf-courses-data.s3.us.cloud-object-storage.appdomain.cloud/IBM-GPXX0AIAEN/fill_mask3.png\" width=\"60%\" alt=\"iris image\"> <center>\n",
    "\n",
    "For example, masked language modeling is used to train large models for domain-specific problems. If you have to work on a domain-specific task, such as retrieving information from medical research papers, you can train a masked language model using those papers.\n",
    "\n",
    "For more information about \"fill-mask\" model you can read [here.](https://huggingface.co/tasks/fill-mask?utm_medium=Exinfluencer&utm_source=Exinfluencer&utm_content=000026UJ&utm_term=10006555&utm_id=NA-SkillsNetwork-Channel-SkillsNetworkGuidedProjectsIBMGPXX0AIAEN102-2022-01-01)\n",
    "The Example below, shows a few options for a 'masked' word in the input sentence. Let's see 4 options in the output.\n"
   ]
  },
  {
   "cell_type": "code",
   "execution_count": 24,
   "metadata": {
    "id": "uT5KYshLqJjS"
   },
   "outputs": [
    {
     "name": "stderr",
     "output_type": "stream",
     "text": [
      "Some weights of the model checkpoint at distilroberta-base were not used when initializing RobertaForMaskedLM: ['roberta.pooler.dense.bias', 'roberta.pooler.dense.weight']\n",
      "- This IS expected if you are initializing RobertaForMaskedLM from the checkpoint of a model trained on another task or with another architecture (e.g. initializing a BertForSequenceClassification model from a BertForPreTraining model).\n",
      "- This IS NOT expected if you are initializing RobertaForMaskedLM from the checkpoint of a model that you expect to be exactly identical (initializing a BertForSequenceClassification model from a BertForSequenceClassification model).\n",
      "Device set to use mps:0\n"
     ]
    },
    {
     "data": {
      "text/plain": [
       "[{'score': 0.19619987905025482,\n",
       "  'token': 30412,\n",
       "  'token_str': ' mathematical',\n",
       "  'sequence': 'This course will teach you all about mathematical models.'},\n",
       " {'score': 0.04052761569619179,\n",
       "  'token': 38163,\n",
       "  'token_str': ' computational',\n",
       "  'sequence': 'This course will teach you all about computational models.'},\n",
       " {'score': 0.033018045127391815,\n",
       "  'token': 27930,\n",
       "  'token_str': ' predictive',\n",
       "  'sequence': 'This course will teach you all about predictive models.'},\n",
       " {'score': 0.03194190561771393,\n",
       "  'token': 745,\n",
       "  'token_str': ' building',\n",
       "  'sequence': 'This course will teach you all about building models.'}]"
      ]
     },
     "execution_count": 24,
     "metadata": {},
     "output_type": "execute_result"
    }
   ],
   "source": [
    "unmasker = pipeline(\"fill-mask\", \"distilroberta-base\")\n",
    "unmasker(\"This course will teach you all about <mask> models.\", top_k=4)"
   ]
  },
  {
   "cell_type": "markdown",
   "metadata": {
    "id": "wdKbFawKyKrl"
   },
   "source": [
    "---\n",
    "### TODO 3.5 : Now, do it with your own masked word or sentence to be predicted by the model."
   ]
  },
  {
   "cell_type": "code",
   "execution_count": 25,
   "metadata": {
    "id": "FUqZPvd6yZNa"
   },
   "outputs": [
    {
     "name": "stderr",
     "output_type": "stream",
     "text": [
      "Some weights of the model checkpoint at distilroberta-base were not used when initializing RobertaForMaskedLM: ['roberta.pooler.dense.bias', 'roberta.pooler.dense.weight']\n",
      "- This IS expected if you are initializing RobertaForMaskedLM from the checkpoint of a model trained on another task or with another architecture (e.g. initializing a BertForSequenceClassification model from a BertForPreTraining model).\n",
      "- This IS NOT expected if you are initializing RobertaForMaskedLM from the checkpoint of a model that you expect to be exactly identical (initializing a BertForSequenceClassification model from a BertForSequenceClassification model).\n",
      "Device set to use mps:0\n"
     ]
    },
    {
     "data": {
      "text/plain": [
       "[{'score': 0.19666963815689087,\n",
       "  'token': 7251,\n",
       "  'token_str': ' fighter',\n",
       "  'sequence': 'Naruto trained every day to become the strongest fighter in the village'},\n",
       " {'score': 0.12230096012353897,\n",
       "  'token': 44764,\n",
       "  'token_str': ' ninja',\n",
       "  'sequence': 'Naruto trained every day to become the strongest ninja in the village'},\n",
       " {'score': 0.11964550614356995,\n",
       "  'token': 19921,\n",
       "  'token_str': ' boxer',\n",
       "  'sequence': 'Naruto trained every day to become the strongest boxer in the village'},\n",
       " {'score': 0.043326325714588165,\n",
       "  'token': 23331,\n",
       "  'token_str': ' wrestler',\n",
       "  'sequence': 'Naruto trained every day to become the strongest wrestler in the village'}]"
      ]
     },
     "execution_count": 25,
     "metadata": {},
     "output_type": "execute_result"
    }
   ],
   "source": [
    "unmasker = pipeline(\"fill-mask\", \"distilroberta-base\")\n",
    "unmasker(\"Naruto trained every day to become the strongest <mask> in the village\", top_k=4)"
   ]
  },
  {
   "cell_type": "markdown",
   "metadata": {
    "id": "6L_aKed3ybuz"
   },
   "source": [
    "---"
   ]
  },
  {
   "cell_type": "markdown",
   "metadata": {
    "id": "qCk5iVYmqJjS"
   },
   "source": [
    "### Example 4 - [Name Entity Recognition (NER)](https://huggingface.co/Jean-Baptiste/camembert-ner?utm_medium=Exinfluencer&utm_source=Exinfluencer&utm_content=000026UJ&utm_term=10006555&utm_id=NA-SkillsNetwork-Channel-SkillsNetworkGuidedProjectsIBMGPXX0AIAEN102-2022-01-01)\n",
    "\n",
    "\n",
    "**NER** sometimes also referred as entity chunking, extraction, or identification, is the task of identifying and categorizing key information (entities) in text. The model sorts according to name of the person: 'PER', group: 'ORG', and location: 'LOC' with appropriate accuracy score and token location.\n",
    "\n",
    "The default model behind NER is \"camembert-ner\". It was trained and fine tuned on wikiner-fr dataset (~170 634 sentences). Click [here](https://medium.com/mysuperai/what-is-named-entity-recognition-ner-and-how-can-i-use-it-2b68cf6f545d?utm_medium=Exinfluencer&utm_source=Exinfluencer&utm_content=000026UJ&utm_term=10006555&utm_id=NA-SkillsNetwork-Channel-SkillsNetworkGuidedProjectsIBMGPXX0AIAEN102-2022-01-01) to learn more about NER.\n",
    "\n",
    "<center> <img src=\"https://cf-courses-data.s3.us.cloud-object-storage.appdomain.cloud/IBM-GPXX0AIAEN/ner2.png\" width=\"60%\" alt=\"iris image\"> <center>\n",
    "\n",
    "Let's look at the specific Example, where we load a pipeline with \"ner\" model and some input:\n"
   ]
  },
  {
   "cell_type": "code",
   "execution_count": 26,
   "metadata": {
    "id": "kQdEITHeqJjS"
   },
   "outputs": [
    {
     "name": "stderr",
     "output_type": "stream",
     "text": [
      "Some weights of the model checkpoint at dbmdz/bert-large-cased-finetuned-conll03-english were not used when initializing BertForTokenClassification: ['bert.pooler.dense.bias', 'bert.pooler.dense.weight']\n",
      "- This IS expected if you are initializing BertForTokenClassification from the checkpoint of a model trained on another task or with another architecture (e.g. initializing a BertForSequenceClassification model from a BertForPreTraining model).\n",
      "- This IS NOT expected if you are initializing BertForTokenClassification from the checkpoint of a model that you expect to be exactly identical (initializing a BertForSequenceClassification model from a BertForSequenceClassification model).\n",
      "Device set to use mps:0\n"
     ]
    },
    {
     "data": {
      "text/plain": [
       "[{'entity_group': 'PER',\n",
       "  'score': 0.9993105,\n",
       "  'word': 'Roberta',\n",
       "  'start': 11,\n",
       "  'end': 18},\n",
       " {'entity_group': 'ORG',\n",
       "  'score': 0.9976597,\n",
       "  'word': 'IBM Skills Network',\n",
       "  'start': 35,\n",
       "  'end': 53},\n",
       " {'entity_group': 'LOC',\n",
       "  'score': 0.99702173,\n",
       "  'word': 'Toronto',\n",
       "  'start': 57,\n",
       "  'end': 64}]"
      ]
     },
     "execution_count": 26,
     "metadata": {},
     "output_type": "execute_result"
    }
   ],
   "source": [
    "ner = pipeline(\"ner\", model=\"dbmdz/bert-large-cased-finetuned-conll03-english\", grouped_entities=True)\n",
    "ner(\"My name is Roberta and I work with IBM Skills Network in Toronto\")\n"
   ]
  },
  {
   "cell_type": "code",
   "execution_count": 27,
   "metadata": {
    "id": "T80YVyUBqJjS"
   },
   "outputs": [],
   "source": [
    "del ner"
   ]
  },
  {
   "cell_type": "markdown",
   "metadata": {
    "id": "n89Jg6WKyzMf"
   },
   "source": [
    "---\n",
    "### TODO 4 : Now, do it with your own word or sentence to be NER-ed by the model."
   ]
  },
  {
   "cell_type": "code",
   "execution_count": 28,
   "metadata": {
    "id": "KvrK_PRMy2CP"
   },
   "outputs": [
    {
     "name": "stderr",
     "output_type": "stream",
     "text": [
      "Some weights of the model checkpoint at dbmdz/bert-large-cased-finetuned-conll03-english were not used when initializing BertForTokenClassification: ['bert.pooler.dense.bias', 'bert.pooler.dense.weight']\n",
      "- This IS expected if you are initializing BertForTokenClassification from the checkpoint of a model trained on another task or with another architecture (e.g. initializing a BertForSequenceClassification model from a BertForPreTraining model).\n",
      "- This IS NOT expected if you are initializing BertForTokenClassification from the checkpoint of a model that you expect to be exactly identical (initializing a BertForSequenceClassification model from a BertForSequenceClassification model).\n",
      "Device set to use mps:0\n"
     ]
    },
    {
     "data": {
      "text/plain": [
       "[{'entity_group': 'PER',\n",
       "  'score': 0.9551568,\n",
       "  'word': 'Naruto Uzumaki',\n",
       "  'start': 11,\n",
       "  'end': 25},\n",
       " {'entity_group': 'LOC',\n",
       "  'score': 0.75274307,\n",
       "  'word': 'Hidden Leaf Village',\n",
       "  'start': 44,\n",
       "  'end': 63},\n",
       " {'entity_group': 'PER',\n",
       "  'score': 0.9973441,\n",
       "  'word': 'Sakura',\n",
       "  'start': 80,\n",
       "  'end': 86},\n",
       " {'entity_group': 'PER',\n",
       "  'score': 0.9946535,\n",
       "  'word': 'Sasuke',\n",
       "  'start': 91,\n",
       "  'end': 97}]"
      ]
     },
     "execution_count": 28,
     "metadata": {},
     "output_type": "execute_result"
    }
   ],
   "source": [
    "ner = pipeline(\"ner\", model=\"dbmdz/bert-large-cased-finetuned-conll03-english\", grouped_entities=True)\n",
    "ner(\"My name is Naruto Uzumaki and I live in the Hidden Leaf Village with my friends Sakura and Sasuke\")"
   ]
  },
  {
   "cell_type": "markdown",
   "metadata": {
    "id": "ohW88jy0y2SC"
   },
   "source": [
    "---"
   ]
  },
  {
   "cell_type": "markdown",
   "metadata": {
    "id": "NPCaVZ7vqJjT"
   },
   "source": [
    "As we see, the model properly identifies all entities in the sentence with highest confidence scores.\n"
   ]
  },
  {
   "cell_type": "markdown",
   "metadata": {
    "id": "JsJKQrbLqJjT"
   },
   "source": [
    "### Example 5 - [Question Answering](https://huggingface.co/tasks/question-answering?utm_medium=Exinfluencer&utm_source=Exinfluencer&utm_content=000026UJ&utm_term=10006555&utm_id=NA-SkillsNetwork-Channel-SkillsNetworkGuidedProjectsIBMGPXX0AIAEN102-2022-01-01)\n",
    "\n",
    "\n",
    "Another widely used application of Hugging Face transformers is Question Answering task. **Question Answering** is the task of extracting an answer from a document. QA models take in a context parameter, which is a document in which you are searching for some information, and a question, and return an answer. The answer is being extracted, not generated. The task is evaluated on two metrics: exact match and F1-score.\n",
    "As discussed in Example 3, there are also other QA models that are not extractive but generative. They generate free text directly based on the context, as shown in the Diagram below.\n",
    "\n",
    "<center> <img src=\"https://cf-courses-data.s3.us.cloud-object-storage.appdomain.cloud/IBM-GPXX0AIAEN/q_a1.png\" width=\"60%\"> <center>\n",
    "\n",
    "Let's look at the Example where we have some context and we try to extract some information from it.\n",
    "First, we load the `pipeline()` with \"question-answering\" identifier. We also input our question and content. Then we apply our model to the input.\n"
   ]
  },
  {
   "cell_type": "code",
   "execution_count": 29,
   "metadata": {
    "id": "24RLaXKxqJjT"
   },
   "outputs": [
    {
     "name": "stderr",
     "output_type": "stream",
     "text": [
      "Device set to use mps:0\n"
     ]
    },
    {
     "data": {
      "text/plain": [
       "{'score': 0.8247053027153015, 'start': 48, 'end': 56, 'answer': 'Amazonia'}"
      ]
     },
     "execution_count": 29,
     "metadata": {},
     "output_type": "execute_result"
    }
   ],
   "source": [
    "qa_model = pipeline(\"question-answering\", model=\"distilbert-base-cased-distilled-squad\")\n",
    "question = \"Which name is also used to describe the Amazon rainforest in English?\"\n",
    "context = \"The Amazon rainforest, also known in English as Amazonia or the Amazon Jungle.\"\n",
    "qa_model(question = question, context = context)"
   ]
  },
  {
   "cell_type": "markdown",
   "metadata": {
    "id": "1mqJtq7kqJjT"
   },
   "source": [
    "As we see, the correct answer has been extracted with 82% confidence score.\n"
   ]
  },
  {
   "cell_type": "markdown",
   "metadata": {
    "id": "F-iIXRyCz_-S"
   },
   "source": [
    "---\n",
    "### TODO 5 : Make your own question and context so the model can answer the question. Use English only."
   ]
  },
  {
   "cell_type": "code",
   "execution_count": 30,
   "metadata": {
    "id": "QvCJ3c_-0H9S"
   },
   "outputs": [
    {
     "name": "stderr",
     "output_type": "stream",
     "text": [
      "Device set to use mps:0\n"
     ]
    },
    {
     "data": {
      "text/plain": [
       "{'score': 0.8975080251693726,\n",
       " 'start': 75,\n",
       " 'end': 89,\n",
       " 'answer': 'Nichirin Blade'}"
      ]
     },
     "execution_count": 30,
     "metadata": {},
     "output_type": "execute_result"
    }
   ],
   "source": [
    "qa_model = pipeline(\"question-answering\", model=\"distilbert-base-cased-distilled-squad\")\n",
    "question = \"What is the name of the sword used by Tanjiro in Demon Slayer?\"\n",
    "context = \"In the anime Demon Slayer, Tanjiro Kamado uses a special weapon known as a Nichirin Blade to fight demons.\"\n",
    "qa_model(question = question, context = context)"
   ]
  },
  {
   "cell_type": "markdown",
   "metadata": {
    "id": "u_6B-EsT0nMR"
   },
   "source": [
    "---"
   ]
  },
  {
   "cell_type": "markdown",
   "metadata": {
    "id": "Xn9lzUZAqJjT"
   },
   "source": [
    "### Example 6: [Text Summarization](https://huggingface.co/tasks/summarization?utm_medium=Exinfluencer&utm_source=Exinfluencer&utm_content=000026UJ&utm_term=10006555&utm_id=NA-SkillsNetwork-Channel-SkillsNetworkGuidedProjectsIBMGPXX0AIAEN102-2022-01-01)\n",
    "\n",
    "\n",
    "The next Example of this Guided Project deals with Text Summarization. **Text Summarization** is the task of creating a shorter version of a document, while preserving the relevant information and importance of the original document. The summarizer model takes in the whole document as input and outputs the summarized version. The evaluation metric used in this analysis is called Rouge. It is a benchmark based on the shared sabsequent tokens between the produced sequence and the original document.\n",
    "\n",
    "<center> <img src=\"https://cf-courses-data.s3.us.cloud-object-storage.appdomain.cloud/IBM-GPXX0AIAEN/summarization.png\" width=\"60%\"> <center>\n",
    "\n",
    "Let's load the \"summarization\" pipeline, input some text that we want to summarize, and see what the output will look like.\n"
   ]
  },
  {
   "cell_type": "code",
   "execution_count": 31,
   "metadata": {
    "id": "VkCdEW1bqJjT"
   },
   "outputs": [
    {
     "name": "stderr",
     "output_type": "stream",
     "text": [
      "Device set to use mps:0\n"
     ]
    },
    {
     "data": {
      "text/plain": [
       "[{'summary_text': ' Exploratory Data Analysis is the first course in Machine Learning Program that introduces learners to the broad range of Machine Learning concepts, applications, challenges, and solutions . EDA is a visual and statistical process that allows us to take a glimpse into the data before the analysis . It lays foundation for the analysis so our results go along with our expectations .'}]"
      ]
     },
     "execution_count": 31,
     "metadata": {},
     "output_type": "execute_result"
    }
   ],
   "source": [
    "summarizer = pipeline(\"summarization\", model=\"sshleifer/distilbart-cnn-12-6\")\n",
    "summarizer(\n",
    "    \"\"\"\n",
    "Exploratory Data Analysis is the first course in Machine Learning Program that introduces learners to the broad range of Machine Learning concepts, applications, challenges, and solutions, while utilizing interesting real-life datasets. So, what is EDA and why is it important to perform it before we dive into any analysis?\n",
    "EDA is a visual and statistical process that allows us to take a glimpse into the data before the analysis. It lets us test the assumptions that we might have about the data, proving or disproving our prior believes and biases. It lays foundation for the analysis, so our results go along with our expectations. In a way, it’s a quality check for our predictions.\n",
    "As any data scientist would agree, the most challenging part in any data analysis is to obtain a good quality data to work with. Nothing is served to us on a silver plate, data comes in different shapes and formats. It can be structured and unstructured, it may contain errors or be biased, it may have missing fields, it can have different formats than what an untrained eye would perceive. For example, when we import some data, very often it would contain a time stamp. To a human it is understandable format that can interpreted. But to a machine, it is not interpretable, so it needs to be told what that means, the data needs to be transformed into simple numbers first. There are also different date-time conventions depending on a country (i.e., Canadian versus USA), metric versus imperial systems, and many other data features that need to be recognized before we start doing the analysis. Therefore, the first step before performing any analysis – is get really aquatinted with your data!\n",
    "This course will teach you to ‘see’ and to ‘feel’ the data as well as to transform it into analysis-ready format. It is introductory level course, so no prior knowledge is required, and it is a good starting point if you are interested in getting into the world of Machine Learning. The only thing that is needed is some computer with internet, your curiosity and eagerness to learn and to apply acquired knowledge.  If you live in Canada, you might be interested about gasoline prices in different cities or if you are an insurance actuary you need to analyze the financial risks that you will take based on your clients information. Whatever is the case, you will be able to do your own analysis, and confirm or disprove some of the existing information.\n",
    "The course contains videos and reading materials, as well as well as a lot of interactive practice labs that learners can explore and apply the skills learned. It will allow you to use Python language in Jupyter Notebook, a cloud-based skills network environment that is pre-set for you with all available to be downloaded packages and libraries. It will introduce you to the most common visualization libraries such as Pandas, Seaborn, and Matplotlib to demonstrate various EDA techniques with some real-life datasets.\n",
    "\n",
    "\"\"\"\n",
    ")"
   ]
  },
  {
   "cell_type": "code",
   "execution_count": 32,
   "metadata": {
    "id": "K2L3ccvAqJjT"
   },
   "outputs": [],
   "source": [
    "del summarizer"
   ]
  },
  {
   "cell_type": "markdown",
   "metadata": {
    "id": "C1nqA8kf1Pmz"
   },
   "source": [
    "---\n",
    "### TODO 6 : Make your own sentence, make it 140 words, in English or Indonesian, then summary it with the model."
   ]
  },
  {
   "cell_type": "code",
   "execution_count": 33,
   "metadata": {
    "id": "ELXoHWMm1P36"
   },
   "outputs": [
    {
     "name": "stderr",
     "output_type": "stream",
     "text": [
      "Device set to use mps:0\n"
     ]
    },
    {
     "data": {
      "text/plain": [
       "[{'summary_text': ' The Promised Neverland is an anime series that follows the story of three gifted orphans living in the seemingly perfect Grace Field House . The story explores themes such as trust, betrayal, hope, and survival . The anime highlights the importance of intelligence, teamwork, and courage in the face of overwhelming odds .'}]"
      ]
     },
     "execution_count": 33,
     "metadata": {},
     "output_type": "execute_result"
    }
   ],
   "source": [
    "summarizer = pipeline(\"summarization\", model=\"sshleifer/distilbart-cnn-12-6\")\n",
    "summarizer(\n",
    "    \"\"\"\n",
    "The Promised Neverland is an anime series that follows the story of Emma, Norman, and Ray, three gifted orphans living in the seemingly perfect Grace Field House. \n",
    "The children are cared for by a woman they call \"Mom\" and live a peaceful life. However, their world shatters when they discover that the orphanage is actually a farm to raise children as food for demons. \n",
    "Shocked by the truth, the trio devises a daring escape plan to save not only themselves but all the other children. The story is full of suspense, emotional tension, and strategic thinking. \n",
    "It explores themes such as trust, betrayal, hope, and survival. As the children outwit adults and creatures far more powerful than them, viewers are taken on a thrilling journey. The anime also highlights the importance of intelligence, teamwork, and courage in the face of overwhelming odds.\n",
    "    \"\"\"\n",
    ")"
   ]
  },
  {
   "cell_type": "markdown",
   "metadata": {
    "id": "RiO7YWKw1m7e"
   },
   "source": [
    "---"
   ]
  },
  {
   "cell_type": "markdown",
   "metadata": {
    "id": "QucUm7bFqJjU"
   },
   "source": [
    "The result is a short summary of our paragraph.\n"
   ]
  },
  {
   "cell_type": "markdown",
   "metadata": {
    "id": "8L6rF52RqJjU"
   },
   "source": [
    "### Example 7 - [Translation](https://huggingface.co/course/chapter7/4?utm_medium=Exinfluencer&utm_source=Exinfluencer&utm_content=000026UJ&utm_term=10006555&utm_id=NA-SkillsNetwork-Channel-SkillsNetworkGuidedProjectsIBMGPXX0AIAEN102-2022-01-01&fw=pt)\n",
    "\n",
    "The last Example of this Guided Project shows the Translation application. **Translation** models take an input in some source language and output the translation in a target language. The evaluation metric used for this task is called BLEU (bilingual evaluation understudy). It is an algorithm for evaluating the quality of text which has been machine-translated from one natural language to another. It is on a scale from 0 to 1, 1 meaning perfect score.\n",
    "\n",
    "The are two types of models, *monolingual* models, trained on a specific language duo data, and there are *multilingual* models, trained on multiple languages dataset.\n",
    "\n",
    "\n",
    "<center> <img src=\"https://cf-courses-data.s3.us.cloud-object-storage.appdomain.cloud/IBM-GPXX0AIAEN/translation.png\" width=\"70%\"> <center>\n",
    "\n",
    "The Example below shows a monolingual, French-English model, \"translation_en_to_fr\", which levereges T5-base model under the hood. These models add a task prefix, e.g., \"_en_to_fr\", indicating the task itself, such as translate English to French. There are also multilingual models for inference. Their inference usage differs from monolingual models. For more information on how to use multilingual models, please visit this [documentation](https://huggingface.co/transformers/v3.0.2/multilingual.html?utm_medium=Exinfluencer&utm_source=Exinfluencer&utm_content=000026UJ&utm_term=10006555&utm_id=NA-SkillsNetwork-Channel-SkillsNetworkGuidedProjectsIBMGPXX0AIAEN102-2022-01-01).\n"
   ]
  },
  {
   "cell_type": "code",
   "execution_count": 34,
   "metadata": {
    "id": "7NoPtO9XqJjU"
   },
   "outputs": [
    {
     "name": "stderr",
     "output_type": "stream",
     "text": [
      "Device set to use mps:0\n"
     ]
    },
    {
     "data": {
      "text/plain": [
       "[{'translation_text': 'Quel est votre âge ?'}]"
      ]
     },
     "execution_count": 34,
     "metadata": {},
     "output_type": "execute_result"
    }
   ],
   "source": [
    "en_fr_translator = pipeline(\"translation_en_to_fr\", model=\"t5-small\")\n",
    "en_fr_translator(\"How old are you?\")"
   ]
  },
  {
   "cell_type": "markdown",
   "metadata": {
    "id": "63RhqJQaqJjU"
   },
   "source": [
    "If you would like to use a specific model that is from one specific language to another, you can also directly use the translation pipeline without specifying the model under the hood.\n"
   ]
  },
  {
   "cell_type": "code",
   "execution_count": 35,
   "metadata": {},
   "outputs": [
    {
     "name": "stdout",
     "output_type": "stream",
     "text": [
      "Requirement already satisfied: sentencepiece in /opt/miniconda3/envs/main-ds/lib/python3.9/site-packages (0.2.0)\n",
      "Note: you may need to restart the kernel to use updated packages.\n"
     ]
    }
   ],
   "source": [
    "pip install sentencepiece"
   ]
  },
  {
   "cell_type": "code",
   "execution_count": 36,
   "metadata": {
    "id": "znnZ5xgLqJjU"
   },
   "outputs": [
    {
     "data": {
      "application/vnd.jupyter.widget-view+json": {
       "model_id": "80f328dfe00648cdb20d5037409a6e65",
       "version_major": 2,
       "version_minor": 0
      },
      "text/plain": [
       "source.spm:   0%|          | 0.00/802k [00:00<?, ?B/s]"
      ]
     },
     "metadata": {},
     "output_type": "display_data"
    },
    {
     "data": {
      "application/vnd.jupyter.widget-view+json": {
       "model_id": "005631131f534870aa35169304ac677d",
       "version_major": 2,
       "version_minor": 0
      },
      "text/plain": [
       "target.spm:   0%|          | 0.00/778k [00:00<?, ?B/s]"
      ]
     },
     "metadata": {},
     "output_type": "display_data"
    },
    {
     "data": {
      "application/vnd.jupyter.widget-view+json": {
       "model_id": "7ea1b295e1f1461f8d59fadba5a09572",
       "version_major": 2,
       "version_minor": 0
      },
      "text/plain": [
       "vocab.json:   0%|          | 0.00/1.34M [00:00<?, ?B/s]"
      ]
     },
     "metadata": {},
     "output_type": "display_data"
    },
    {
     "name": "stderr",
     "output_type": "stream",
     "text": [
      "Device set to use mps:0\n"
     ]
    },
    {
     "data": {
      "text/plain": [
       "[{'translation_text': 'Data science is the best.'}]"
      ]
     },
     "execution_count": 36,
     "metadata": {},
     "output_type": "execute_result"
    }
   ],
   "source": [
    "translator = pipeline(\"translation\", model=\"Helsinki-NLP/opus-mt-fr-en\")\n",
    "translator(\"La science des données est la meilleure.\")"
   ]
  },
  {
   "cell_type": "markdown",
   "metadata": {
    "id": "Yu6xfJJM2BEA"
   },
   "source": [
    "---\n",
    "### TODO 7 : Make your own Indonesian sentence to be translated to France language."
   ]
  },
  {
   "cell_type": "code",
   "execution_count": 37,
   "metadata": {
    "id": "3pdFf0Hb2Jfj"
   },
   "outputs": [
    {
     "data": {
      "application/vnd.jupyter.widget-view+json": {
       "model_id": "ebc974fa749744b0b9395c17e193e938",
       "version_major": 2,
       "version_minor": 0
      },
      "text/plain": [
       "source.spm:   0%|          | 0.00/804k [00:00<?, ?B/s]"
      ]
     },
     "metadata": {},
     "output_type": "display_data"
    },
    {
     "data": {
      "application/vnd.jupyter.widget-view+json": {
       "model_id": "6067acc033fb496b8d460181268b8b14",
       "version_major": 2,
       "version_minor": 0
      },
      "text/plain": [
       "target.spm:   0%|          | 0.00/818k [00:00<?, ?B/s]"
      ]
     },
     "metadata": {},
     "output_type": "display_data"
    },
    {
     "data": {
      "application/vnd.jupyter.widget-view+json": {
       "model_id": "6c9dab33313245cb8592f6848425e509",
       "version_major": 2,
       "version_minor": 0
      },
      "text/plain": [
       "vocab.json:   0%|          | 0.00/1.31M [00:00<?, ?B/s]"
      ]
     },
     "metadata": {},
     "output_type": "display_data"
    },
    {
     "name": "stderr",
     "output_type": "stream",
     "text": [
      "Device set to use mps:0\n"
     ]
    },
    {
     "data": {
      "text/plain": [
       "[{'translation_text': \"Emma et ses amies ont essayé de s'échapper de l'orphelinat.\"}]"
      ]
     },
     "execution_count": 37,
     "metadata": {},
     "output_type": "execute_result"
    }
   ],
   "source": [
    "translator_id = pipeline(\"translation\", model=\"Helsinki-NLP/opus-mt-id-fr\")\n",
    "translator_id(\"Emma dan teman-temannya berusaha melarikan diri dari panti asuhan\")"
   ]
  },
  {
   "cell_type": "markdown",
   "metadata": {
    "id": "Ftoz6gDD2J0W"
   },
   "source": [
    "---"
   ]
  },
  {
   "cell_type": "markdown",
   "metadata": {
    "id": "3AxhyP52qJjU"
   },
   "source": [
    "# **Let's Practice**\n"
   ]
  },
  {
   "cell_type": "markdown",
   "metadata": {
    "id": "CNGchIGIqJjU"
   },
   "source": [
    "### Exercise 1 - Sentiment Analysis\n",
    "For sentiment analysis, we can also use a specific model that is better suited to our use case by providing the name of the model. For example, if we want a sentiment analysis model for tweets, we can specify the following model id: \"cardiffnlp/twitter-roberta-base-sentiment\". This model has been trained on  ~58M tweets and fine-tuned for sentiment analysis with the \"TweetEval\" benchmark.\n",
    "The output labels for this model are: 0 -> Negative; 1 -> Neutral; 2 -> Positive.\n",
    "\n",
    "In this Exercise, use \"cardiffnlp/twitter-roberta-base-sentiment\" model pre-trained on tweets data, to analyze any tweet of choice. Optionally, use the default model (used in Example 1) on the same tweet, to see if the result will change.\n"
   ]
  },
  {
   "cell_type": "code",
   "execution_count": 38,
   "metadata": {
    "id": "S5HL9tX9qJjV"
   },
   "outputs": [
    {
     "data": {
      "application/vnd.jupyter.widget-view+json": {
       "model_id": "613355200d78439dba21ec9d82e6709f",
       "version_major": 2,
       "version_minor": 0
      },
      "text/plain": [
       "config.json:   0%|          | 0.00/747 [00:00<?, ?B/s]"
      ]
     },
     "metadata": {},
     "output_type": "display_data"
    },
    {
     "data": {
      "application/vnd.jupyter.widget-view+json": {
       "model_id": "f58492faf2b94ce3b245d71c5137f9ac",
       "version_major": 2,
       "version_minor": 0
      },
      "text/plain": [
       "pytorch_model.bin:   0%|          | 0.00/499M [00:00<?, ?B/s]"
      ]
     },
     "metadata": {},
     "output_type": "display_data"
    },
    {
     "data": {
      "application/vnd.jupyter.widget-view+json": {
       "model_id": "a7a615204c8a4ed9921acdcad8652c3a",
       "version_major": 2,
       "version_minor": 0
      },
      "text/plain": [
       "vocab.json:   0%|          | 0.00/899k [00:00<?, ?B/s]"
      ]
     },
     "metadata": {},
     "output_type": "display_data"
    },
    {
     "data": {
      "application/vnd.jupyter.widget-view+json": {
       "model_id": "36a73241553847e4819ad76021d88c03",
       "version_major": 2,
       "version_minor": 0
      },
      "text/plain": [
       "model.safetensors:   0%|          | 0.00/499M [00:00<?, ?B/s]"
      ]
     },
     "metadata": {},
     "output_type": "display_data"
    },
    {
     "data": {
      "application/vnd.jupyter.widget-view+json": {
       "model_id": "18826b1055da4e0b829c6936bc029786",
       "version_major": 2,
       "version_minor": 0
      },
      "text/plain": [
       "merges.txt:   0%|          | 0.00/456k [00:00<?, ?B/s]"
      ]
     },
     "metadata": {},
     "output_type": "display_data"
    },
    {
     "data": {
      "application/vnd.jupyter.widget-view+json": {
       "model_id": "2d45cd39b9364a43b001de7a9226ba8c",
       "version_major": 2,
       "version_minor": 0
      },
      "text/plain": [
       "special_tokens_map.json:   0%|          | 0.00/150 [00:00<?, ?B/s]"
      ]
     },
     "metadata": {},
     "output_type": "display_data"
    },
    {
     "name": "stderr",
     "output_type": "stream",
     "text": [
      "Device set to use mps:0\n"
     ]
    },
    {
     "data": {
      "text/plain": [
       "[{'label': 'LABEL_2', 'score': 0.9886412024497986}]"
      ]
     },
     "execution_count": 38,
     "metadata": {},
     "output_type": "execute_result"
    }
   ],
   "source": [
    "# TODO\n",
    "tweet = \"Just watched the new One Piece episode. It was incredible! #anime\"\n",
    "\n",
    "tweet_sentiment = pipeline(\"sentiment-analysis\", model=\"cardiffnlp/twitter-roberta-base-sentiment\")\n",
    "tweet_sentiment(tweet)"
   ]
  },
  {
   "cell_type": "code",
   "execution_count": 39,
   "metadata": {
    "id": "ScI8dDi0qJjV"
   },
   "outputs": [
    {
     "name": "stderr",
     "output_type": "stream",
     "text": [
      "No model was supplied, defaulted to distilbert/distilbert-base-uncased-finetuned-sst-2-english and revision 714eb0f (https://huggingface.co/distilbert/distilbert-base-uncased-finetuned-sst-2-english).\n",
      "Using a pipeline without specifying a model name and revision in production is not recommended.\n"
     ]
    },
    {
     "data": {
      "application/vnd.jupyter.widget-view+json": {
       "model_id": "2b1a2d7c169940a49dce34c60bfe1093",
       "version_major": 2,
       "version_minor": 0
      },
      "text/plain": [
       "config.json:   0%|          | 0.00/629 [00:00<?, ?B/s]"
      ]
     },
     "metadata": {},
     "output_type": "display_data"
    },
    {
     "data": {
      "application/vnd.jupyter.widget-view+json": {
       "model_id": "b09cc095ebfc4a04b68bec89113e6e22",
       "version_major": 2,
       "version_minor": 0
      },
      "text/plain": [
       "model.safetensors:   0%|          | 0.00/268M [00:00<?, ?B/s]"
      ]
     },
     "metadata": {},
     "output_type": "display_data"
    },
    {
     "data": {
      "application/vnd.jupyter.widget-view+json": {
       "model_id": "ba0e321124a444e285ec1b547c3beb48",
       "version_major": 2,
       "version_minor": 0
      },
      "text/plain": [
       "tokenizer_config.json:   0%|          | 0.00/48.0 [00:00<?, ?B/s]"
      ]
     },
     "metadata": {},
     "output_type": "display_data"
    },
    {
     "data": {
      "application/vnd.jupyter.widget-view+json": {
       "model_id": "563b006b9c67457480a8d78887b1e4c6",
       "version_major": 2,
       "version_minor": 0
      },
      "text/plain": [
       "vocab.txt:   0%|          | 0.00/232k [00:00<?, ?B/s]"
      ]
     },
     "metadata": {},
     "output_type": "display_data"
    },
    {
     "name": "stderr",
     "output_type": "stream",
     "text": [
      "Device set to use mps:0\n"
     ]
    },
    {
     "data": {
      "text/plain": [
       "[{'label': 'POSITIVE', 'score': 0.9998113512992859}]"
      ]
     },
     "execution_count": 39,
     "metadata": {},
     "output_type": "execute_result"
    }
   ],
   "source": [
    "# TODO\n",
    "default_sentiment = pipeline(\"sentiment-analysis\")\n",
    "default_sentiment(tweet)"
   ]
  },
  {
   "cell_type": "markdown",
   "metadata": {
    "id": "rvpRqoFzqJjV"
   },
   "source": [
    "<details>\n",
    "    <summary>Click here for Solution</summary>\n",
    "\n",
    "```python\n",
    "specific_model = pipeline(model=\"cardiffnlp/twitter-roberta-base-sentiment\")\n",
    "data = \"Artificial intelligence and automation are already causing friction in the workforce. Should schools revamp existing programs for topics like #AI, or are new research areas required?\"\n",
    "specific_model(data)\n",
    "\n",
    "```\n",
    "\n",
    "</details>\n"
   ]
  },
  {
   "cell_type": "markdown",
   "metadata": {
    "id": "0_wCIlreqJjV"
   },
   "source": [
    "<details>\n",
    "    <summary>Click here for Solution</summary>\n",
    "\n",
    "```python\n",
    "original_model = pipeline(\"sentiment-analysis\")\n",
    "data = \"Artificial intelligence and automation are already causing friction in the workforce. Should schools revamp existing programs for topics like #AI, or are new research areas required?\"\n",
    "original_model(data)\n",
    "\n",
    "```\n",
    "\n",
    "</details>\n"
   ]
  },
  {
   "cell_type": "markdown",
   "metadata": {
    "id": "_nqTaGghqJjV"
   },
   "source": [
    "<details>\n",
    "    <summary>Click here for a Hint</summary>\n",
    "    \n",
    "As we see, tweet specific model classifies the tweet as neutral (LABEL_1), which it actually might be, versus the general model, classifies the same tweet as 'NEGATIVE', which is probably not entirely negative.\n",
    "\n",
    "</details>\n"
   ]
  },
  {
   "cell_type": "markdown",
   "metadata": {
    "id": "WA300hpZqJjV"
   },
   "source": [
    "### Exercise 2 - Topic Classification\n",
    "In this Exercise, use any sentence of choice to classify it under any classes/ topics of choice. Use \"zero-shot-classification\" and specify the model=\"facebook/bart-large-mnli\".\n"
   ]
  },
  {
   "cell_type": "code",
   "execution_count": 40,
   "metadata": {
    "id": "QES96y8BqJjV"
   },
   "outputs": [
    {
     "name": "stderr",
     "output_type": "stream",
     "text": [
      "Device set to use mps:0\n"
     ]
    },
    {
     "data": {
      "text/plain": [
       "{'sequence': 'Luffy wants to become the Pirate King by finding the One Piece treasure.',\n",
       " 'labels': ['anime', 'technology', 'history', 'sports', 'science'],\n",
       " 'scores': [0.9526888132095337,\n",
       "  0.01857858896255493,\n",
       "  0.012616857886314392,\n",
       "  0.009363248012959957,\n",
       "  0.006752511952072382]}"
      ]
     },
     "execution_count": 40,
     "metadata": {},
     "output_type": "execute_result"
    }
   ],
   "source": [
    "# TODO\n",
    "classifier = pipeline(\"zero-shot-classification\", model=\"facebook/bart-large-mnli\")\n",
    "\n",
    "text = \"Luffy wants to become the Pirate King by finding the One Piece treasure.\"\n",
    "labels = [\"history\", \"science\", \"anime\", \"technology\", \"sports\"]\n",
    "\n",
    "classifier(text, candidate_labels=labels)\n"
   ]
  },
  {
   "cell_type": "markdown",
   "metadata": {
    "id": "AgmZHu2JqJjV"
   },
   "source": [
    "<details>\n",
    "    <summary>Click here for Solution</summary>\n",
    "\n",
    "```python\n",
    "classifier = pipeline(\"zero-shot-classification\", model=\"facebook/bart-large-mnli\")\n",
    "classifier(\n",
    "    \"I love travelling and learning new cultures\",\n",
    "    candidate_labels=[\"art\", \"education\", \"travel\"],\n",
    ")\n",
    "```\n",
    "\n",
    "</details>\n"
   ]
  },
  {
   "cell_type": "markdown",
   "metadata": {
    "id": "HhBJxOvxqJjV"
   },
   "source": [
    "### Exercise 3 - Text Generation Models\n",
    "\n",
    "In this Exercise, use 'text-generator' and 'gpt2' model to complete any sentence. Define any desirable number of returned sentences.\n"
   ]
  },
  {
   "cell_type": "code",
   "execution_count": 41,
   "metadata": {
    "id": "0fFrHaBxqJjW"
   },
   "outputs": [
    {
     "name": "stderr",
     "output_type": "stream",
     "text": [
      "Device set to use mps:0\n",
      "Truncation was not explicitly activated but `max_length` is provided a specific value, please use `truncation=True` to explicitly truncate examples to max length. Defaulting to 'longest_first' truncation strategy. If you encode pairs of sequences (GLUE-style) with the tokenizer you can select this strategy more precisely by providing a specific strategy to `truncation`.\n",
      "Setting `pad_token_id` to `eos_token_id`:50256 for open-end generation.\n",
      "Both `max_new_tokens` (=256) and `max_length`(=30) seem to have been set. `max_new_tokens` will take precedence. Please refer to the documentation for more information. (https://huggingface.co/docs/transformers/main/en/main_classes/text_generation)\n"
     ]
    },
    {
     "data": {
      "text/plain": [
       "[{'generated_text': \"In the world of anime, friendship and determination can be very powerful. The characters and their actions inspire and inspire each other, and there's no better way to illustrate this than by creating a love triangle that's as emotionally compelling as it is believable.\\n\\nFamitsu has also found inspiration from anime and manga. They create a unique and unique world where humanity is at war, and what matters is how to survive. The series also features a unique story that takes place in the middle of a massive war, as well as a unique characters-only setting.\\n\\nThe series is due out in Japan on September 6, 2017, and will air on Crunchyroll's Anime Central Network.\\n\\nSource: MangaHelpers via Otakomu\"},\n",
       " {'generated_text': \"In the world of anime, friendship and determination can be seen as the greatest strength.\\n\\nJinjō\\n\\nThe jinjō is a type of martial art in which the user is able to use techniques that are based on the skill learned by the opponent. To use it, the user has to spend time fighting, which normally takes between 10 and 20 minutes.\\n\\nThe most common jinjō is used in the Shinkansen system's Shinkansen-class. The first jinjō was seen briefly in the first episode of the first season, when it was used to defeat the Shinkansen Master of Fire.\\n\\nA common jinjō is used by the Shinkansen Master of Lightning.\\n\\nJinjō in the anime\\n\\nIn the anime, the jinjō is made with a variety of different kinds of materials. The main difference is that the material has a unique appearance to it and the appearance of the jinjō is often the same for both types of materials.\\n\\nSee also\\n\\nReferences\"},\n",
       " {'generated_text': 'In the world of anime, friendship and determination can be extremely important.\\n\\nWhen it comes to friendship, it can be found in characters like Sakura, Riku, and Ritsuko.\\n\\nFriendships are important to the characters.\\n\\nIt\\'s very important for the characters to have a good relationship.\\n\\nFriendships are important to the characters.\\n\\nA friendship is a relationship that has a very long lasting lasting impact on the characters.\\n\\nIt can be quite important for the characters to keep in touch with each other and to be able to say \"I love you!\"\\n\\nThe importance of friendship can also be found in people like Satsuki, Sakura, and Riku.\\n\\nSakura has a great friend to whom she is able to say \"I love you!\"\\n\\nRiku has a different kind of friend to whom he is able to say \"I love you!\"\\n\\nWith regards to friendship, it can be found in people like Riku, Riku and Sakura.\\n\\nRiku is able to say \"I love you!\"\\n\\nRiku can often say \"I love you!\"\\n\\nRiku has a good friend to whom he is able to say \"I love you!\"\\n\\nSakura, Riku, and Sakura can share a good'}]"
      ]
     },
     "execution_count": 41,
     "metadata": {},
     "output_type": "execute_result"
    }
   ],
   "source": [
    "# TODO\n",
    "generator = pipeline(\"text-generation\", model=\"gpt2\")\n",
    "\n",
    "prompt = \"In the world of anime, friendship and determination can\"\n",
    "generator(prompt, max_length=30, num_return_sequences=3)\n"
   ]
  },
  {
   "cell_type": "markdown",
   "metadata": {
    "id": "1N-k1WmTqJjW"
   },
   "source": [
    "<details>\n",
    "    <summary>Click here for Solution</summary>\n",
    "\n",
    "```python\n",
    "generator = pipeline('text-generation', model = 'gpt2')\n",
    "generator(\"Hello, I'm a language model\", max_length = 30, num_return_sequences=3)\n",
    "```\n",
    "\n",
    "</details>\n"
   ]
  },
  {
   "cell_type": "markdown",
   "metadata": {
    "id": "XgJm6AxRqJjW"
   },
   "source": [
    "### Exercise 4 - Name Entity Recognition\n",
    "In this Exercise, use any sentence of choice to extract entities: person, location and organization, using Name Entity Recognition task, specify model as \"Jean-Baptiste/camembert-ner\".\n"
   ]
  },
  {
   "cell_type": "code",
   "execution_count": 42,
   "metadata": {
    "id": "jip_nB0rqJjW"
   },
   "outputs": [
    {
     "data": {
      "application/vnd.jupyter.widget-view+json": {
       "model_id": "7feccb0d46444b069a47cff162c8ede7",
       "version_major": 2,
       "version_minor": 0
      },
      "text/plain": [
       "config.json:   0%|          | 0.00/892 [00:00<?, ?B/s]"
      ]
     },
     "metadata": {},
     "output_type": "display_data"
    },
    {
     "data": {
      "application/vnd.jupyter.widget-view+json": {
       "model_id": "3af3dd2721a24b128182e5d093365599",
       "version_major": 2,
       "version_minor": 0
      },
      "text/plain": [
       "model.safetensors:   0%|          | 0.00/440M [00:00<?, ?B/s]"
      ]
     },
     "metadata": {},
     "output_type": "display_data"
    },
    {
     "data": {
      "application/vnd.jupyter.widget-view+json": {
       "model_id": "73c3a86c2af44a5a9fb599dd1db7b1ca",
       "version_major": 2,
       "version_minor": 0
      },
      "text/plain": [
       "tokenizer_config.json:   0%|          | 0.00/269 [00:00<?, ?B/s]"
      ]
     },
     "metadata": {},
     "output_type": "display_data"
    },
    {
     "data": {
      "application/vnd.jupyter.widget-view+json": {
       "model_id": "01ae36b8c30843a29bf7fa161fd08d11",
       "version_major": 2,
       "version_minor": 0
      },
      "text/plain": [
       "sentencepiece.bpe.model:   0%|          | 0.00/811k [00:00<?, ?B/s]"
      ]
     },
     "metadata": {},
     "output_type": "display_data"
    },
    {
     "data": {
      "application/vnd.jupyter.widget-view+json": {
       "model_id": "ff06b98e0a3e4774a02bbde210aaa869",
       "version_major": 2,
       "version_minor": 0
      },
      "text/plain": [
       "special_tokens_map.json:   0%|          | 0.00/210 [00:00<?, ?B/s]"
      ]
     },
     "metadata": {},
     "output_type": "display_data"
    },
    {
     "name": "stderr",
     "output_type": "stream",
     "text": [
      "Device set to use mps:0\n"
     ]
    },
    {
     "data": {
      "text/plain": [
       "[{'entity_group': 'PER',\n",
       "  'score': 0.48230842,\n",
       "  'word': 'Emma',\n",
       "  'start': 0,\n",
       "  'end': 4},\n",
       " {'entity_group': 'PER',\n",
       "  'score': 0.6580116,\n",
       "  'word': 'Ray',\n",
       "  'start': 8,\n",
       "  'end': 12},\n",
       " {'entity_group': 'LOC',\n",
       "  'score': 0.9436026,\n",
       "  'word': 'Grace Field House',\n",
       "  'start': 25,\n",
       "  'end': 43},\n",
       " {'entity_group': 'PER',\n",
       "  'score': 0.93255043,\n",
       "  'word': 'William Minerva',\n",
       "  'start': 65,\n",
       "  'end': 81}]"
      ]
     },
     "execution_count": 42,
     "metadata": {},
     "output_type": "execute_result"
    }
   ],
   "source": [
    "# TODO\n",
    "ner_model = pipeline(\"ner\", model=\"Jean-Baptiste/camembert-ner\", grouped_entities=True)\n",
    "\n",
    "text = \"Emma and Ray escaped from Grace Field House and are searching for William Minerva in the forest.\"\n",
    "\n",
    "ner_model(text)\n"
   ]
  },
  {
   "cell_type": "markdown",
   "metadata": {
    "id": "LY_UMpqbqJjW"
   },
   "source": [
    "<details>\n",
    "    <summary>Click here for Solution</summary>\n",
    "\n",
    "```python\n",
    "nlp = pipeline(\"ner\", model=\"Jean-Baptiste/camembert-ner\", grouped_entities=True)\n",
    "example = \"Her name is Anjela and she lives in Seoul.\"\n",
    "\n",
    "ner_results = nlp(example)\n",
    "print(ner_results)\n",
    "```\n",
    "\n",
    "</details>\n"
   ]
  },
  {
   "cell_type": "markdown",
   "metadata": {
    "id": "BrhGO6D8qJjW"
   },
   "source": [
    "### Exercise 5 - Question Answering\n",
    "In this Exercise, use any sentence and a question of choice to extract some information, using \"distilbert-base-cased-distilled-squad\" model.\n"
   ]
  },
  {
   "cell_type": "code",
   "execution_count": 43,
   "metadata": {
    "id": "vWOjLSlCqJjW"
   },
   "outputs": [
    {
     "name": "stderr",
     "output_type": "stream",
     "text": [
      "Device set to use mps:0\n"
     ]
    },
    {
     "data": {
      "text/plain": [
       "{'score': 0.47103482484817505,\n",
       " 'start': 41,\n",
       " 'end': 76,\n",
       " 'answer': 'children escaping from an orphanage'}"
      ]
     },
     "execution_count": 43,
     "metadata": {},
     "output_type": "execute_result"
    }
   ],
   "source": [
    "# TODO\n",
    "qa_model = pipeline(\"question-answering\", model=\"distilbert-base-cased-distilled-squad\")\n",
    "\n",
    "context = \"The Promised Neverland is an anime about children escaping from an orphanage that hides a dark secret.\"\n",
    "question = \"What is The Promised Neverland about?\"\n",
    "\n",
    "qa_model(question=question, context=context)\n"
   ]
  },
  {
   "cell_type": "markdown",
   "metadata": {
    "id": "bt8eXVBmqJjW"
   },
   "source": [
    "<details>\n",
    "    <summary>Click here for Solution</summary>\n",
    "\n",
    "```python\n",
    "question_answerer = pipeline(\"question-answering\", model=\"distilbert-base-cased-distilled-squad\")\n",
    "question_answerer(\n",
    "    question=\"Which lake is one of the five Great Lakes of North America?\",\n",
    "    context=\"Lake Ontario is one of the five Great Lakes of North America. It is surrounded on the north, west, and southwest by the Canadian province of Ontario, and on the south and east by the U.S. state of New York, whose water boundaries, along the international border, meet in the middle of the lake.\",\n",
    ")\n",
    "```\n",
    "\n",
    "</details>\n",
    "\n"
   ]
  },
  {
   "cell_type": "markdown",
   "metadata": {
    "id": "eDwY-TPtqJjW"
   },
   "source": [
    "### Exercise 6 - Text Summarization\n",
    "In this Exercise, use any document/paragraph of choice and summarize it, using \"sshleifer/distilbart-cnn-12-6\" model.\n"
   ]
  },
  {
   "cell_type": "code",
   "execution_count": 44,
   "metadata": {
    "id": "7am_dqU_qJjX"
   },
   "outputs": [
    {
     "name": "stderr",
     "output_type": "stream",
     "text": [
      "Device set to use mps:0\n",
      "Your max_length is set to 142, but your input_length is only 87. Since this is a summarization task, where outputs shorter than the input are typically wanted, you might consider decreasing max_length manually, e.g. summarizer('...', max_length=43)\n"
     ]
    },
    {
     "data": {
      "text/plain": [
       "[{'summary_text': ' The Promised Neverland follows a group of orphans who live in a seemingly idyllic orphanage . They discover that the orphanage is a farm where children are raised to be fed to demons . Emma, Norman, and Ray devise a plan to escape and save the other children .'}]"
      ]
     },
     "execution_count": 44,
     "metadata": {},
     "output_type": "execute_result"
    }
   ],
   "source": [
    "# TODO\n",
    "summarizer = pipeline(\"summarization\", model=\"sshleifer/distilbart-cnn-12-6\")\n",
    "\n",
    "text = \"\"\"\n",
    "The Promised Neverland follows a group of orphans who live in a seemingly idyllic orphanage. However, they discover that the orphanage is a farm where children are raised to be fed to demons. Emma, Norman, and Ray devise a plan to escape and save the other children. Their journey tests their intelligence, courage, and trust in each other as they uncover deeper secrets about the world outside.\n",
    "\"\"\"\n",
    "\n",
    "summarizer(text)\n"
   ]
  },
  {
   "cell_type": "markdown",
   "metadata": {
    "id": "WmT9WoUNqJjX"
   },
   "source": [
    "<details>\n",
    "    <summary>Click here for Solution</summary>\n",
    "\n",
    "```python\n",
    "summarizer = pipeline(\"summarization\", model=\"sshleifer/distilbart-cnn-12-6\",  max_length=59)\n",
    "summarizer(\n",
    "    \"\"\"\n",
    "Lake Superior in central North America is the largest freshwater lake in the world by surface area and the third-largest by volume, holding 10% of the world's surface fresh water. The northern and westernmost of the Great Lakes of North America, it straddles the Canada–United States border with the province of Ontario to the north, and the states of Minnesota to the northwest and Wisconsin and Michigan to the south. It drains into Lake Huron via St. Marys River and through the lower Great Lakes to the St. Lawrence River and the Atlantic Ocean.\n",
    "\"\"\"\n",
    ")\n",
    "```\n",
    "\n",
    "</details>\n"
   ]
  },
  {
   "cell_type": "markdown",
   "metadata": {
    "id": "Idk8tnTNqJjX"
   },
   "source": [
    "### Exercise 7 - Translation\n",
    "In this Exercise, use any sentence of choice to translate English to German. The translation model you can use is \"translation_en_to_de\".\n"
   ]
  },
  {
   "cell_type": "code",
   "execution_count": 45,
   "metadata": {
    "id": "lbvFeHRCqJjX"
   },
   "outputs": [
    {
     "name": "stderr",
     "output_type": "stream",
     "text": [
      "No model was supplied, defaulted to google-t5/t5-base and revision a9723ea (https://huggingface.co/google-t5/t5-base).\n",
      "Using a pipeline without specifying a model name and revision in production is not recommended.\n"
     ]
    },
    {
     "data": {
      "application/vnd.jupyter.widget-view+json": {
       "model_id": "c0bbb460b79944e09b96d9a2b6cfa836",
       "version_major": 2,
       "version_minor": 0
      },
      "text/plain": [
       "config.json:   0%|          | 0.00/1.21k [00:00<?, ?B/s]"
      ]
     },
     "metadata": {},
     "output_type": "display_data"
    },
    {
     "data": {
      "application/vnd.jupyter.widget-view+json": {
       "model_id": "d295099be802460aa44fa9371f1be5fa",
       "version_major": 2,
       "version_minor": 0
      },
      "text/plain": [
       "model.safetensors:   0%|          | 0.00/892M [00:00<?, ?B/s]"
      ]
     },
     "metadata": {},
     "output_type": "display_data"
    },
    {
     "data": {
      "application/vnd.jupyter.widget-view+json": {
       "model_id": "395be13470a24ad9a615d2dcf7d474fe",
       "version_major": 2,
       "version_minor": 0
      },
      "text/plain": [
       "generation_config.json:   0%|          | 0.00/147 [00:00<?, ?B/s]"
      ]
     },
     "metadata": {},
     "output_type": "display_data"
    },
    {
     "data": {
      "application/vnd.jupyter.widget-view+json": {
       "model_id": "476b4f384b8d4283b3b0f80d24af73d5",
       "version_major": 2,
       "version_minor": 0
      },
      "text/plain": [
       "spiece.model:   0%|          | 0.00/792k [00:00<?, ?B/s]"
      ]
     },
     "metadata": {},
     "output_type": "display_data"
    },
    {
     "data": {
      "application/vnd.jupyter.widget-view+json": {
       "model_id": "ab7acdb02151422b9f37f56c4a28b4b3",
       "version_major": 2,
       "version_minor": 0
      },
      "text/plain": [
       "tokenizer.json:   0%|          | 0.00/1.39M [00:00<?, ?B/s]"
      ]
     },
     "metadata": {},
     "output_type": "display_data"
    },
    {
     "name": "stderr",
     "output_type": "stream",
     "text": [
      "Device set to use mps:0\n"
     ]
    },
    {
     "data": {
      "text/plain": [
       "[{'translation_text': 'The Promised Neverland ist eine spannende und emotionale Anime-Serie.'}]"
      ]
     },
     "execution_count": 45,
     "metadata": {},
     "output_type": "execute_result"
    }
   ],
   "source": [
    "# TODO\n",
    "translator = pipeline(\"translation_en_to_de\")\n",
    "\n",
    "text = \"The Promised Neverland is a thrilling and emotional anime series.\"\n",
    "\n",
    "translator(text)\n"
   ]
  },
  {
   "cell_type": "markdown",
   "metadata": {
    "id": "QKtC3KNpqJjX"
   },
   "source": [
    "<details>\n",
    "    <summary>Click here for Solution</summary>\n",
    "\n",
    "```python\n",
    "translator = pipeline(\"translation_en_to_de\", model=\"t5-small\")\n",
    "print(translator(\"New York is my favourite city\", max_length=40))\n",
    "```\n",
    "\n",
    "</details>\n"
   ]
  },
  {
   "cell_type": "markdown",
   "metadata": {
    "id": "0xGZLko9qJjX"
   },
   "source": [
    "## Congratulations! You have completed this guided project.\n"
   ]
  },
  {
   "cell_type": "markdown",
   "metadata": {
    "id": "mxQYtC2dqJjX"
   },
   "source": [
    "## Author\n"
   ]
  },
  {
   "cell_type": "markdown",
   "metadata": {
    "id": "elUXsF77qJjX"
   },
   "source": [
    "[Svitlana Kramar](www.linkedin.com/in/svitlana-kramar)\n"
   ]
  },
  {
   "cell_type": "markdown",
   "metadata": {
    "id": "z6tp35e3qJjY"
   },
   "source": [
    "## Change Log\n"
   ]
  },
  {
   "cell_type": "markdown",
   "metadata": {
    "id": "Fw_MOQzuqJjY"
   },
   "source": [
    "|Date (YYYY-MM-DD)|Version|Changed By|Change Description|\n",
    "|-|-|-|-|\n",
    "|2022-09-20|0.1|Svitlana K.|Created first version|\n",
    "|2022-09-27|0.2|Svitlana K.|Created second version. Added diagrams.|\n"
   ]
  },
  {
   "cell_type": "markdown",
   "metadata": {
    "id": "UGUIDdigqJjY"
   },
   "source": [
    "Copyright © 2022 IBM Corporation. All rights reserved.\n"
   ]
  }
 ],
 "metadata": {
  "accelerator": "GPU",
  "colab": {
   "gpuType": "T4",
   "provenance": []
  },
  "kernelspec": {
   "display_name": "Python 3 (ipykernel)",
   "language": "python",
   "name": "python3"
  },
  "language_info": {
   "codemirror_mode": {
    "name": "ipython",
    "version": 3
   },
   "file_extension": ".py",
   "mimetype": "text/x-python",
   "name": "python",
   "nbconvert_exporter": "python",
   "pygments_lexer": "ipython3",
   "version": "3.9.21"
  }
 },
 "nbformat": 4,
 "nbformat_minor": 4
}
